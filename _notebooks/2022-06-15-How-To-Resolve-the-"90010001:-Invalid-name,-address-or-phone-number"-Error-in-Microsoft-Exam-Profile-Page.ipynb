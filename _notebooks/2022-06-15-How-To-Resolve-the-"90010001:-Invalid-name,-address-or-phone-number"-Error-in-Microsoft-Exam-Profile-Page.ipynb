{
 "cells": [
  {
   "cell_type": "markdown",
   "id": "71e9aa30",
   "metadata": {},
   "source": [
    "\n",
    "# How To Resolve the \"90010001: Invalid name, address or phone number\" Error in Microsoft Exam Profile Page\n",
    "\n",
    "- toc: true\n",
    "- branch: master\n",
    "- badges: true\n",
    "- use_math: true\n",
    "- comments: true\n",
    "- categories: [solution,english]\n",
    "- description: If You Could not Create Microsoft Exam Profile, See this\n",
    "---\n"
   ]
  },
  {
   "cell_type": "markdown",
   "id": "1257df4d",
   "metadata": {},
   "source": [
    "### Answer\n",
    "It is most likely that you have not filled in the address correctly, so I suggest you keep only the first line of the address.\n",
    "\n",
    "### How-to locate the problem\n",
    "1. Press F12 to open the Developer Tools;\n",
    "2. Open the \"network\" tab;\n",
    "3. Click the \"Save&Continue\" button;\n",
    "4. Check the network response, you can find a \"SaveUserMasterPofile\" item or something like that. Click it and open \"response\" subtab, the error message will tell you the real reason for the problem:\n",
    "![f12-network](https://foam-1257577213.cos.ap-guangzhou.myqcloud.com/images/blog/1655284360316.png)\n",
    "\n",
    "### My thoughts\n",
    "It took me a long time to solve this problem, and I read many posts on the Microsoft website. I realized that for 3 years, Microsoft customer service has been using the same template to respond to this issue. Instead of actually helping the customer and more people with a meaningful response, the customer service was just copy and paste the template.\n",
    "![the Frustrating response](https://foam-1257577213.cos.ap-guangzhou.myqcloud.com/images/blog/1655284965689.png)\n",
    "But in fact Microsoft's backend developers had already provided a solution to the problem. Unfortunately, the error message on the front end was a mess, and customer service did not provide effective feedback on the issue to optimize the user experience. All in all, Microsoft does have a lot of space for UXe improvement (ironically, their OKRs definetely not include that)."
   ]
  }
 ],
 "metadata": {
  "language_info": {
   "name": "python"
  }
 },
 "nbformat": 4,
 "nbformat_minor": 5
}
