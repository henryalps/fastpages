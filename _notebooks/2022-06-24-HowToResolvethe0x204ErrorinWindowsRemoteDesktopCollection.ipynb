{
 "cells": [
  {
   "cell_type": "markdown",
   "id": "04d69cb1",
   "metadata": {},
   "source": [
    "\n",
    "# How To Resolve the \"0x204\" Error in Windows Remote Desktop Collection\n",
    "\n",
    "- toc: true\n",
    "- branch: master\n",
    "- badges: true\n",
    "- use_math: true\n",
    "- comments: true\n",
    "- categories: [Solution]\n",
    "- description: If You Failed to open 3389 port, read this\n",
    "---\n"
   ]
  },
  {
   "cell_type": "markdown",
   "id": "38740368",
   "metadata": {},
   "source": [
    "## Solution\n",
    "\n",
    "To make it short, just switch to another port instead of 3389.\n",
    "\n",
    "## Background\n",
    "\n",
    "So finally, I could not stand with the TeamViewer as I keep worrying about the security issue. The Windows remote desktop service seems to be a perfect choice, except that I just couldn't get the client work on my Mac or iPad. The 0x204 error is a nightmare.\n",
    "![0x204](https://foam-1257577213.cos.ap-guangzhou.myqcloud.com/images/blog/1656067212838.png)\n",
    "\n",
    "As always, poor users have met this error again and again, and complex solution has been published to solve this issue. Look at this:\n",
    "https://www.thewindowsclub.com/fix-remote-desktop-connection-issues\n",
    "\n",
    "Technically, I spent a whole morning to try every kind of solution in this article, but I failed again and again. That was depressing. Howerver, I managed to learn something from my past failure, and so is the solution below. \n",
    "\n",
    "## Solution details\n",
    "\n",
    "If you are also in the following situation -- \n",
    "1. The remote desktop client complains 0x204;\n",
    "2. Ping windows server IP returns success;\n",
    "3. Windows told you that the 3389 port is open, you could always check that by running the following command in powershell:\n",
    "```\n",
    "cmd /c 'netstat -ano | find \"3389\"'\n",
    "```\n",
    "4. If you netstat the server IP on client machine, 3389 could not found.\n",
    "\n",
    "Then, you can try to use the following procedure to resolve the problem:\n",
    "1. In the windows server, run `regedit` to open the registry editor;\n",
    "2. Go to `HKEY_LOCAL_MACHINE\\SYSTEM\\CurrentControlSet\\Control\\Terminal Server\\WinStations\\RDP-Tcp`;\n",
    "3. Change the value of `PortNum` to another one, such as \"6929\"; ![PortNum](https://foam-1257577213.cos.ap-guangzhou.myqcloud.com/images/blog/1656068221206.png)\n",
    "4. Run the command `gpupdate /force` in powershell to update the registry;\n",
    "5. Run `services.msc`, and restart the `remote desktop` service;\n",
    "6. Switch to your client, connect to the server with `<ip>:<port>`. Bingo!\n",
    "\n",
    "## Thoughts\n",
    "\n",
    "`nmap` and `telnet` are always friends for network troubleshooting. A machine's opening ports can only be told to you by another machine. And finally, DONOT waste time on some complicated solution if you are not sure whether your problem matches the solution."
   ]
  }
 ],
 "metadata": {
  "language_info": {
   "name": "python"
  }
 },
 "nbformat": 4,
 "nbformat_minor": 5
}
