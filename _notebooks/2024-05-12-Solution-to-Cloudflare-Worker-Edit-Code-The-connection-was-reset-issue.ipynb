{
 "cells": [
  {
   "cell_type": "markdown",
   "id": "12fb8a9c",
   "metadata": {},
   "source": [
    "\n",
    "# Cloudflare Worker Edit Code出现The connection was reset. 问题的解决方案\n",
    "\n",
    "- toc: false\n",
    "- branch: master\n",
    "- badges: true\n",
    "- use_math: true\n",
    "- comments: true\n",
    "- categories: [Solution]\n",
    "- description: \n",
    "---\n"
   ]
  },
  {
   "cell_type": "markdown",
   "source": [
    "Cloudflare Worker 创建完成后，在编辑代码时，出现以下问题："
   ],
   "metadata": {
    "collapsed": false
   },
   "id": "e8c8ef4fe0766b84"
  },
  {
   "cell_type": "markdown",
   "source": [
    "![1715502605773.png](https://foam-1257577213.cos.ap-guangzhou.myqcloud.com/images/blog/1715502605773.png)"
   ],
   "metadata": {
    "collapsed": false
   },
   "id": "d40284ebfea78759"
  },
  {
   "cell_type": "markdown",
   "source": [
    "解决方案:\n",
    "\n",
    "将以下两个域名加入代理中：\n",
    "\n",
    "```http\n",
    "*.cloudflare.com\n",
    "*.pages.dev\n",
    "```"
   ],
   "metadata": {
    "collapsed": false
   },
   "id": "4ca66420e71dd791"
  },
  {
   "cell_type": "code",
   "execution_count": null,
   "outputs": [],
   "source": [],
   "metadata": {
    "collapsed": false
   },
   "id": "642532b8035e72be"
  }
 ],
 "metadata": {
  "kernelspec": {
   "name": "python3",
   "language": "python",
   "display_name": "Python 3 (ipykernel)"
  }
 },
 "nbformat": 4,
 "nbformat_minor": 5
}
