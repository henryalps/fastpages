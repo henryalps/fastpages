{
 "cells": [
  {
   "cell_type": "markdown",
   "metadata": {},
   "source": [
    "\n",
    "# 分享一些整理的资料\n",
    "\n",
    "- toc: true\n",
    "- branch: master\n",
    "- badges: true\n",
    "- use_math: true\n",
    "- comments: true\n",
    "- categories: [share,files]\n",
    "- description: 整合了网上的零散资料后, 在该页面分享出来\n",
    "---\n"
   ]
  },
  {
   "cell_type": "markdown",
   "metadata": {},
   "source": [
    "#### 李耳《道德经》赵孟頫楷书版本\n",
    "\n",
    "《道德经》分为《道经》与《德经》两卷，共五千字。该版本由元代书法家赵孟頫创作于公元1316年，结构严谨，字迹清晰，现藏于故宫博物院。将其扫描档整理为pdf版本文件。\n",
    "\n",
    "图片取自[360doc](http://www.360doc.com/content/17/1215/13/32665938_713305280.shtml)\n",
    "\n",
    "链接: [百度网盘](https://pan.baidu.com/s/1Wu2AHw2ws5zFuDzv9idYVQ) 提取码: **xakj**"
   ]
  },
  {
   "cell_type": "code",
   "execution_count": null,
   "metadata": {},
   "outputs": [],
   "source": []
  }
 ],
 "metadata": {
  "kernelspec": {
   "display_name": "Python 3",
   "language": "python",
   "name": "python3"
  },
  "language_info": {
   "codemirror_mode": {
    "name": "ipython",
    "version": 3
   },
   "file_extension": ".py",
   "mimetype": "text/x-python",
   "name": "python",
   "nbconvert_exporter": "python",
   "pygments_lexer": "ipython3",
   "version": "3.6.9"
  }
 },
 "nbformat": 4,
 "nbformat_minor": 4
}
