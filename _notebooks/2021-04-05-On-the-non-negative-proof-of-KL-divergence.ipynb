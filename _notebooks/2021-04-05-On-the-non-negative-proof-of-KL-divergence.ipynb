{
 "cells": [
  {
   "cell_type": "markdown",
   "metadata": {},
   "source": [
    "\n",
    "# 关于KL散度非负性证明\n",
    "\n",
    "- toc: true\n",
    "- branch: master\n",
    "- badges: true\n",
    "- use_math: true\n",
    "- comments: true\n",
    "- categories: [统计学习方法,KL-Divergence]\n",
    "- description: 对<统计学习方法>中一个公式的思考\n",
    "---\n"
   ]
  },
  {
   "cell_type": "markdown",
   "metadata": {},
   "source": [
    "### 背景\n",
    "\n",
    "在学习<统计学习方法>时, 对末尾的公式有疑问, 查询记录在这里."
   ]
  },
  {
   "cell_type": "markdown",
   "metadata": {},
   "source": [
    "### 问题"
   ]
  },
  {
   "cell_type": "markdown",
   "metadata": {},
   "source": [
    "KL散度的公式如下:\n",
    "$$ \n",
    "D_{\\mathrm{KL}}(P \\| Q)=\\int_{-\\infty}^{\\infty} p(x) \\log \\left(\\frac{p(x)}{q(x)}\\right) d x\n",
    "$$\n",
    "\n",
    "在证明其非负时, 用到了jansen不等式, 如下:\n",
    "$$\n",
    "\\varphi(\\mathrm{E}[X]) \\leq \\mathrm{E}[\\varphi(X)]\n",
    "$$\n",
    "\n",
    "关键点是这里的推导:\n",
    "$$\n",
    "\\begin{aligned}\n",
    "\\int p(x) \\log \\frac{p(x)}{q(x)} d x &=-\\int p(x) \\log \\frac{q(x)}{p(x)} d x \\\\\n",
    "& \\leqslant-\\log \\int p(x) \\frac{q(x)}{p(x)} d x=0\n",
    "\\end{aligned}\n",
    "$$"
   ]
  },
  {
   "cell_type": "markdown",
   "metadata": {},
   "source": [
    "### 问题的解决\n",
    "\n",
    "首先, jansen不等式中的 $X$ 可以用 $g(x)$ 替换, 得到 $$\\varphi(E[g(x)]) \\leq E[\\varphi(g(x))] \\quad(1)$$\n",
    "\n",
    "其次, 定义 $$g(x) = \\frac{q(x)}{p(x)} \\quad(2)$$ $$\\varphi(x) = \\log(x) \\quad(3)$$\n",
    "\n",
    "再次就到了这里的一个关键点, 即复合函数如何求期望. 根据维基百科, $$E[g(x)] = \\int g(x) p(x) d x \\quad(4)$$ $$E[\\varphi(g(x))]=\\int p(x) \\varphi(g(x)) d x \\quad(5)$$ 这里隐含着条件x是以$p(x)$为PDF的随机变量.\n",
    "\n",
    "将(2)代入(4) (5)得到 $$\\begin{aligned}\n",
    "E[\\varphi(g(x))] &=\\int f(x) \\varphi(g(x)) d x \\\\\n",
    "&=\\int p(x) \\log \\left(\\frac{q(x)}{p(x)}\\right) d x\n",
    "\\end{aligned}(6)$$\n",
    "\n",
    "$$E[g(x)]=\\int \\frac{q(x)}{p(x)} p(x) d x \\quad(7)$$\n",
    "\n",
    "再代入(1)便得到了问题中的结论."
   ]
  },
  {
   "cell_type": "markdown",
   "metadata": {},
   "source": [
    "### 总结\n",
    "\n",
    "这个式子感觉并不直观, 要想到它, 首先要了解log是一个凸函数, 其次对jansen不等式十分熟悉, 最后能够在PDF和期望之间建立关联, 我就是在最后一步被卡住了."
   ]
  },
  {
   "cell_type": "code",
   "execution_count": null,
   "metadata": {},
   "outputs": [],
   "source": []
  }
 ],
 "metadata": {
  "kernelspec": {
   "display_name": "Python 3",
   "language": "python",
   "name": "python3"
  },
  "language_info": {
   "codemirror_mode": {
    "name": "ipython",
    "version": 3
   },
   "file_extension": ".py",
   "mimetype": "text/x-python",
   "name": "python",
   "nbconvert_exporter": "python",
   "pygments_lexer": "ipython3",
   "version": "3.6.9"
  }
 },
 "nbformat": 4,
 "nbformat_minor": 4
}
