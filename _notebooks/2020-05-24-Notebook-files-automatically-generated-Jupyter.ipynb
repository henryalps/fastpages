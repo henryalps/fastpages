{
 "cells": [
  {
   "cell_type": "markdown",
   "metadata": {},
   "source": [
    "\n",
    "# 自动生成Jupyter笔记本文件\n",
    "\n",
    "- toc: true\n",
    "- branch: master\n",
    "- badges: true\n",
    "- comments: true\n",
    "- categories: [jupyter]\n",
    "- description: 使用代码自动生成的Jupyter笔记本文件\n",
    "---\n"
   ]
  },
  {
   "cell_type": "markdown",
   "metadata": {},
   "source": [
    "## 原因\n",
    "\n",
    "由于手动创建符合FastPages的笔记本文件比较麻烦（对文件名，格式都有要求），因此，使用代码简单生成一个脚手架文件。\n",
    "\n",
    "## 方法\n",
    "① 打开目录下的‘tools.ipynb’文件；\n",
    "\n",
    "② 修改标题、描述等配置信息；\n",
    "\n",
    "③ 运行后即可生成笔记本文件\n",
    "\n",
    "## tips\n",
    "可以在_config.yml中排除`tools.ipynb`，避免它也生成一个页面。"
   ]
  }
 ],
 "metadata": {
  "kernelspec": {
   "display_name": "Python 3",
   "language": "python",
   "name": "python3"
  },
  "language_info": {
   "codemirror_mode": {
    "name": "ipython",
    "version": 3
   },
   "file_extension": ".py",
   "mimetype": "text/x-python",
   "name": "python",
   "nbconvert_exporter": "python",
   "pygments_lexer": "ipython3",
   "version": "3.6.9"
  }
 },
 "nbformat": 4,
 "nbformat_minor": 4
}
