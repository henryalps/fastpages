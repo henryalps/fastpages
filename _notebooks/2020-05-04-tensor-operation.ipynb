{
 "cells": [
  {
   "cell_type": "markdown",
   "metadata": {
    "language": "python"
   },
   "source": [
    "# \"图示各种Tensor操作\"\n",
    "\n",
    "- toc: true\n",
    "- branch: master\n",
    "- badges: true\n",
    "- comments: true\n",
    "- categories: [tensorflow, jupyter]\n",
    "- description: 实践中，因为对Tensor操作不熟悉，我经常出现代码错误，或者在改代码时漫无头绪。这里梳理总结各种常见的Tensor变换操作。"
   ]
  },
  {
   "cell_type": "markdown",
   "metadata": {},
   "source": [
    "### Tensor的形状\n",
    "\n",
    "* Tensor是什么？\n",
    "\n",
    "机器学习中的定义下，Tensor是数据的容器。我将其理解为每个元素大小都相等的N维数组。\n",
    "但在严格的数学定义中，Tensor又不仅仅是数据的容器，Tensor具备几何意义，其中的每个元素实际上表示了某个基向量的权重。\n",
    "\n",
    "* 为什么要用Tensor?\n",
    "\n",
    "机器学习中，使用Tensor纯粹是需要定义这样一种数据类型--换个名字都可以。\n",
    "根据[某YouTude视频](https://www.youtube.com/watch?v=f5liqUk0ZTw)，由于Tensor表征了不同基向量之间的组合。这意味着即使空间发生变换（不涉及升降维），Tensor中存储的信息也不会发生改变，所以Tensor实际是对信息的一种最精简的表示（如果对空间进行变换，基向量互相垂直的关系是否会发生改变？）"
   ]
  }
 ],
 "metadata": {
  "config": {
   "dependencies": {},
   "env": {
    "PYTHONHOME": "C:\\Users\\henryalps\\Anaconda3\\envs\\tensorflow",
    "PYTHONPATH": "C:\\Users\\henryalps\\Anaconda3\\envs\\tensorflow\\lib\\site-packages"
   },
   "exclusions": [],
   "repositories": []
  },
  "kernelspec": {
   "display_name": "Python 3",
   "language": "python",
   "name": "python3"
  },
  "language_info": {
   "codemirror_mode": {
    "name": "ipython",
    "version": 3
   },
   "file_extension": ".py",
   "mimetype": "text/x-python",
   "name": "python",
   "nbconvert_exporter": "python",
   "pygments_lexer": "ipython3",
   "version": "3.6.9"
  }
 },
 "nbformat": 4,
 "nbformat_minor": 1
}
