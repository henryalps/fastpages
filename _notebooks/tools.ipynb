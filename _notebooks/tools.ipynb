{
 "cells": [
  {
   "cell_type": "markdown",
   "metadata": {},
   "source": [
    "# ”create a new blog!“\n",
    "\n",
    "- hide: true"
   ]
  },
  {
   "cell_type": "code",
   "execution_count": null,
   "metadata": {},
   "outputs": [],
   "source": [
    "!pip uninstall translation"
   ]
  },
  {
   "cell_type": "code",
   "execution_count": 5,
   "metadata": {},
   "outputs": [
    {
     "name": "stdout",
     "output_type": "stream",
     "text": [
      "Getting-Pytorch-one-hour\n",
      "\n",
      "# Pytorch一小时入门\n",
      "\n",
      "- toc: true\n",
      "- branch: master\n",
      "- badges: true\n",
      "- comments: true\n",
      "- categories: [jupyter,pytorch]\n",
      "- description: 抄写一遍Pytorch入门代码\n",
      "---\n",
      "\n"
     ]
    }
   ],
   "source": [
    "from googletrans import Translator\n",
    "from datetime import datetime\n",
    "from functools import lru_cache\n",
    "\n",
    "title='Pytorch一小时入门'\n",
    "description='抄写一遍Pytorch入门代码'\n",
    "toc='true'\n",
    "tags=','.join(['jupyter','pytorch'])\n",
    "branch='master'\n",
    "badges='true'\n",
    "comments='true'\n",
    "use_math='true'\n",
    "date=datetime.today().strftime('%Y-%m-%d')\n",
    "\n",
    "@lru_cache(maxsize=10)\n",
    "def translate(text):\n",
    "    return '-'.join(Translator().translate(text).text.split())\n",
    "\n",
    "if len(title) < 1:\n",
    "    print('title not set!')\n",
    "    exit()\n",
    "\n",
    "format_title = translate(title)\n",
    "print(format_title)\n",
    "\n",
    "import nbformat as nbf\n",
    "nb = nbf.v4.new_notebook()\n",
    "\n",
    "text = \"\"\"\n",
    "# {title}\n",
    "\n",
    "- toc: {toc}\n",
    "- branch: {branch}\n",
    "- badges: {badges}\n",
    "- use_math: {use_math}\n",
    "- comments: {comments}\n",
    "- categories: [{tags}]\n",
    "- description: {description}\n",
    "---\n",
    "\"\"\".format(title=title, toc=toc, branch=branch, badges=badges, use_math=use_math, comments=comments, tags=tags, description=description)\n",
    "print(text)\n",
    "nb['cells'] = [nbf.v4.new_markdown_cell(text)]\n",
    "nbf.write(nb, '{}-{}.ipynb'.format(date,format_title))\n"
   ]
  },
  {
   "cell_type": "code",
   "execution_count": null,
   "metadata": {},
   "outputs": [],
   "source": []
  }
 ],
 "metadata": {
  "kernelspec": {
   "display_name": "Python 3 (ipykernel)",
   "language": "python",
   "name": "python3"
  },
  "language_info": {
   "codemirror_mode": {
    "name": "ipython",
    "version": 3
   },
   "file_extension": ".py",
   "mimetype": "text/x-python",
   "name": "python",
   "nbconvert_exporter": "python",
   "pygments_lexer": "ipython3",
   "version": "3.9.7"
  }
 },
 "nbformat": 4,
 "nbformat_minor": 4
}
