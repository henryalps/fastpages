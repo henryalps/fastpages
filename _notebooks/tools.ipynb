{
 "cells": [
  {
   "cell_type": "markdown",
   "metadata": {},
   "source": [
    "# ”create a new blog!“\n",
    "\n",
    "- hide: true"
   ]
  },
  {
   "cell_type": "code",
   "execution_count": 8,
   "metadata": {},
   "outputs": [
    {
     "name": "stdout",
     "output_type": "stream",
     "text": [
      "Found existing installation: googletrans 3.0.0\n",
      "Uninstalling googletrans-3.0.0:\n",
      "  Successfully uninstalled googletrans-3.0.0\n",
      "Collecting translate\n",
      "  Downloading translate-3.6.1-py2.py3-none-any.whl (12 kB)\n",
      "Collecting click\n",
      "  Downloading click-8.1.3-py3-none-any.whl (96 kB)\n",
      "\u001b[K     |████████████████████████████████| 96 kB 7.8 MB/s eta 0:00:011\n",
      "\u001b[?25hCollecting libretranslatepy==2.1.1\n",
      "  Downloading libretranslatepy-2.1.1-py3-none-any.whl (3.2 kB)\n",
      "Requirement already satisfied: lxml in /opt/homebrew/Caskroom/miniforge/base/envs/py37/lib/python3.9/site-packages (from translate) (4.6.2)\n",
      "Requirement already satisfied: requests in /opt/homebrew/Caskroom/miniforge/base/envs/py37/lib/python3.9/site-packages (from translate) (2.27.1)\n",
      "Requirement already satisfied: charset-normalizer~=2.0.0 in /opt/homebrew/Caskroom/miniforge/base/envs/py37/lib/python3.9/site-packages (from requests->translate) (2.0.0)\n",
      "Requirement already satisfied: urllib3<1.27,>=1.21.1 in /opt/homebrew/Caskroom/miniforge/base/envs/py37/lib/python3.9/site-packages (from requests->translate) (1.22)\n",
      "Requirement already satisfied: certifi>=2017.4.17 in /opt/homebrew/Caskroom/miniforge/base/envs/py37/lib/python3.9/site-packages (from requests->translate) (2021.10.8)\n",
      "Requirement already satisfied: idna<4,>=2.5 in /opt/homebrew/Caskroom/miniforge/base/envs/py37/lib/python3.9/site-packages (from requests->translate) (2.6)\n",
      "Installing collected packages: libretranslatepy, click, translate\n",
      "Successfully installed click-8.1.3 libretranslatepy-2.1.1 translate-3.6.1\n"
     ]
    }
   ],
   "source": [
    "!pip uninstall googletrans --yes\n",
    "!pip install translate"
   ]
  },
  {
   "cell_type": "code",
   "execution_count": 1,
   "metadata": {},
   "outputs": [
    {
     "name": "stdout",
     "output_type": "stream",
     "text": [
      "HowToResolvethe0x204ErrorinWindowsRemoteDesktopCollection\n",
      "\n",
      "# How To Resolve the \"0x204\" Error in Windows Remote Desktop Collection\n",
      "\n",
      "- toc: true\n",
      "- branch: master\n",
      "- badges: true\n",
      "- use_math: true\n",
      "- comments: true\n",
      "- categories: [Solution]\n",
      "- description: If You Failed to open 3389 port, read this\n",
      "---\n",
      "\n"
     ]
    }
   ],
   "source": [
    "from translate import Translator\n",
    "from datetime import datetime\n",
    "from functools import lru_cache\n",
    "import re\n",
    "\n",
    "title = 'How To Resolve the \"0x204\" Error in Windows Remote Desktop Collection'\n",
    "description = 'If You Failed to open 3389 port, read this'\n",
    "toc='true'\n",
    "tags=','.join(['Solution'])\n",
    "branch='master'\n",
    "badges='true'\n",
    "comments='true'\n",
    "use_math='true'\n",
    "date=datetime.today().strftime('%Y-%m-%d')\n",
    "\n",
    "@lru_cache(maxsize=10)\n",
    "def translate(text):\n",
    "    return '-'.join(Translator(to_lang=\"en\").translate(re.sub(\"\\W\", \"\", text)).split())\n",
    "\n",
    "if len(title) < 1:\n",
    "    print('title not set!')\n",
    "    exit()\n",
    "    \n",
    "format_title = translate(title)\n",
    "print(format_title)\n",
    "\n",
    "import nbformat as nbf\n",
    "nb = nbf.v4.new_notebook()\n",
    "\n",
    "text = \"\"\"\n",
    "# {title}\n",
    "\n",
    "- toc: {toc}\n",
    "- branch: {branch}\n",
    "- badges: {badges}\n",
    "- use_math: {use_math}\n",
    "- comments: {comments}\n",
    "- categories: [{tags}]\n",
    "- description: {description}\n",
    "---\n",
    "\"\"\".format(title=title, toc=toc, branch=branch, badges=badges, use_math=use_math, comments=comments, tags=tags, description=description)\n",
    "print(text)\n",
    "nb['cells'] = [nbf.v4.new_markdown_cell(text)]\n",
    "nbf.write(nb, '{}-{}.ipynb'.format(date,format_title))\n"
   ]
  },
  {
   "cell_type": "code",
   "execution_count": null,
   "metadata": {},
   "outputs": [],
   "source": []
  }
 ],
 "metadata": {
  "kernelspec": {
   "display_name": "Python 3.9.7 ('py37')",
   "language": "python",
   "name": "python3"
  },
  "language_info": {
   "codemirror_mode": {
    "name": "ipython",
    "version": 3
   },
   "file_extension": ".py",
   "mimetype": "text/x-python",
   "name": "python",
   "nbconvert_exporter": "python",
   "pygments_lexer": "ipython3",
   "version": "3.9.7"
  },
  "vscode": {
   "interpreter": {
    "hash": "0c8c25d8e15c38b47162118427542c6f42952feb89829e2f8260ceaeef84ca48"
   }
  }
 },
 "nbformat": 4,
 "nbformat_minor": 4
}
