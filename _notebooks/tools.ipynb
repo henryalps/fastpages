{
 "cells": [
  {
   "cell_type": "markdown",
   "metadata": {},
   "source": [
    "# ”create a new blog!“\n",
    "\n",
    "- hide: true"
   ]
  },
  {
   "cell_type": "code",
   "execution_count": null,
   "metadata": {},
   "outputs": [],
   "source": [
    "!pip uninstall googletrans --yes\n",
    "!pip install translate"
   ]
  },
  {
   "cell_type": "code",
   "execution_count": 32,
   "metadata": {
    "ExecuteTime": {
     "end_time": "2024-05-12T08:27:05.853387Z",
     "start_time": "2024-05-12T08:27:02.383860Z"
    }
   },
   "outputs": [
    {
     "name": "stdout",
     "output_type": "stream",
     "text": [
      "Solution-to-Cloudflare-Worker-Edit-Code-The-connection-was-reset-issue\n",
      "\n",
      "# Cloudflare Worker Edit Code出现The connection was reset. 问题的解决方案\n",
      "\n",
      "- toc: false\n",
      "- branch: master\n",
      "- badges: true\n",
      "- use_math: true\n",
      "- comments: true\n",
      "- categories: [Solution]\n",
      "- description: \n",
      "---\n",
      "\n",
      "finish!\n"
     ]
    }
   ],
   "source": [
    "from translate import Translator\n",
    "from datetime import datetime\n",
    "from functools import lru_cache\n",
    "import re\n",
    "title = 'Cloudflare Worker Edit Code出现The connection was reset. 问题的解决方案'\n",
    "description = ''\n",
    "toc='false'\n",
    "\n",
    "tags=','.join(['Solution'])\n",
    "branch='master'\n",
    "badges='true'\n",
    "comments='true'\n",
    "use_math='true'\n",
    "date=datetime.today().strftime('%Y-%m-%d')\n",
    "\n",
    "@lru_cache(maxsize=10)\n",
    "def translate(text):\n",
    "    return '-'.join(Translator(from_lang=\"zh\", to_lang=\"en\").translate(re.sub(\"\\W\", \" \", text)).split())\n",
    "\n",
    "if len(title) < 1:\n",
    "    print('title not set!')\n",
    "    exit()\n",
    "    \n",
    "format_title = translate(title)\n",
    "print(format_title)\n",
    "\n",
    "import nbformat as nbf\n",
    "nb = nbf.v4.new_notebook()\n",
    "\n",
    "text = \"\"\"\n",
    "# {title}\n",
    "\n",
    "- toc: {toc}\n",
    "- branch: {branch}\n",
    "- badges: {badges}\n",
    "- use_math: {use_math}\n",
    "- comments: {comments}\n",
    "- categories: [{tags}]\n",
    "- description: {description}\n",
    "---\n",
    "\"\"\".format(title=title, toc=toc, branch=branch, badges=badges, use_math=use_math, comments=comments, tags=tags, description=description)\n",
    "print(text)\n",
    "nb['cells'] = [nbf.v4.new_markdown_cell(text)]\n",
    "nbf.write(nb, '{}-{}.ipynb'.format(date,format_title))\n",
    "print(\"finish!\")"
   ]
  },
  {
   "cell_type": "code",
   "execution_count": null,
   "outputs": [],
   "source": [],
   "metadata": {
    "collapsed": false
   }
  }
 ],
 "metadata": {
  "kernelspec": {
   "display_name": "Python 3.9.7 ('py37')",
   "language": "python",
   "name": "python3"
  },
  "language_info": {
   "codemirror_mode": {
    "name": "ipython",
    "version": 3
   },
   "file_extension": ".py",
   "mimetype": "text/x-python",
   "name": "python",
   "nbconvert_exporter": "python",
   "pygments_lexer": "ipython3",
   "version": "3.9.7"
  },
  "vscode": {
   "interpreter": {
    "hash": "0c8c25d8e15c38b47162118427542c6f42952feb89829e2f8260ceaeef84ca48"
   }
  }
 },
 "nbformat": 4,
 "nbformat_minor": 4
}
