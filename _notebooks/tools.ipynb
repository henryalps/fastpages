{
 "cells": [
  {
   "cell_type": "markdown",
   "metadata": {},
   "source": [
    "# create a new blog!"
   ]
  },
  {
   "cell_type": "code",
   "execution_count": 6,
   "metadata": {},
   "outputs": [
    {
     "name": "stdout",
     "output_type": "stream",
     "text": [
      "^C\n"
     ]
    }
   ],
   "source": [
    "!pip install translation"
   ]
  },
  {
   "cell_type": "code",
   "execution_count": 24,
   "metadata": {},
   "outputs": [
    {
     "name": "stdout",
     "output_type": "stream",
     "text": [
      "Notebook-files-automatically-generated-Jupyter\n",
      "\n",
      "# 自动生成Jupyter笔记本文件\n",
      "\n",
      "- toc: true\n",
      "- branch: master\n",
      "- badges: true\n",
      "- comments: true\n",
      "- categories: [jupyter]\n",
      "- description: 使用代码自动生成的Jupyter笔记本文件\n",
      "---\n",
      "\n"
     ]
    }
   ],
   "source": [
    "from googletrans import Translator\n",
    "from datetime import datetime\n",
    "from functools import lru_cache\n",
    "\n",
    "title='自动生成Jupyter笔记本文件'\n",
    "description='使用代码自动生成的Jupyter笔记本文件'\n",
    "toc='true'\n",
    "tags=','.join(['jupyter'])\n",
    "branch='master'\n",
    "badges='true'\n",
    "comments='true'\n",
    "date=datetime.today().strftime('%Y-%m-%d')\n",
    "\n",
    "@lru_cache(maxsize=10)\n",
    "def translate(text):\n",
    "    return '-'.join(Translator().translate(text).text.split())\n",
    "\n",
    "if len(title) < 1:\n",
    "    print('title not set!')\n",
    "    exit()\n",
    "\n",
    "format_title = translate(title)\n",
    "print(format_title)\n",
    "\n",
    "import nbformat as nbf\n",
    "nb = nbf.v4.new_notebook()\n",
    "\n",
    "text = \"\"\"\n",
    "# {title}\n",
    "\n",
    "- toc: {toc}\n",
    "- branch: {branch}\n",
    "- badges: {badges}\n",
    "- comments: {comments}\n",
    "- categories: [{tags}]\n",
    "- description: {description}\n",
    "---\n",
    "\"\"\".format(title=title, toc=toc, branch=branch, badges=badges, comments=comments, tags=tags, description=description)\n",
    "print(text)\n",
    "nb['cells'] = [nbf.v4.new_markdown_cell(text)]\n",
    "nbf.write(nb, '{}-{}.ipynb'.format(date,format_title))"
   ]
  },
  {
   "cell_type": "code",
   "execution_count": null,
   "metadata": {},
   "outputs": [],
   "source": []
  }
 ],
 "metadata": {
  "kernelspec": {
   "display_name": "Python 3",
   "language": "python",
   "name": "python3"
  },
  "language_info": {
   "codemirror_mode": {
    "name": "ipython",
    "version": 3
   },
   "file_extension": ".py",
   "mimetype": "text/x-python",
   "name": "python",
   "nbconvert_exporter": "python",
   "pygments_lexer": "ipython3",
   "version": "3.6.9"
  }
 },
 "nbformat": 4,
 "nbformat_minor": 4
}
