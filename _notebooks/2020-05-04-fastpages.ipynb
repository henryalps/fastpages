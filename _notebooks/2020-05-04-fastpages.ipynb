{
 "cells": [
  {
   "cell_type": "markdown",
   "metadata": {},
   "source": [
    "# \"强推使用FastPages搭建博客\"\n",
    "\n",
    "- toc: false\n",
    "- branch: master\n",
    "- badges: true\n",
    "- comments: true\n",
    "- categories: [jupyter]\n",
    "- description: 😘甚至比我的想象更加完美！FastPages的优势：同时支持使用Jupyter NoteBook/word/markdown写作博客！与GitHub Pages无缝融合！\n",
    "---"
   ]
  },
  {
   "attachments": {},
   "cell_type": "markdown",
   "metadata": {},
   "source": [
    "<!-- more -->\n",
    "\n",
    "### 什么是FastPages\n",
    "\n",
    "FASTAI出品的一个易用的博客框架，尤其突出的特性是对JupyterNoteBook的支持。\n",
    "\n",
    "### 如何安装FastPages\n",
    "\n",
    "非常简单。\n",
    "\n",
    "（1）通过[这个链接](https://github.com/fastai/fastpages/generate)生成一份fork；\n",
    "\n",
    "（2）GitHub会在约30s后为你的fork开一个Pull Request；\n",
    "\n",
    "（3）进入Pull Request，按要求首先创建一对  RSA 密钥对。你可以在本地用```ssh-key-gen```命令创建；\n",
    "\n",
    "（4）配置RSA密钥对。注意private key命名必须是SSH_DEPLOY_KEY，不然后边部署时会报错；\n",
    "\n",
    "（5）Merge这个Pull Request，30s后就可以见到你的博客了；\n",
    "\n",
    "（5）如果Merge过程中出现错误，可以到Actions页面里边点击重试.\n",
    "\n",
    "### 如何配置FastPages\n",
    "\n",
    "FastPages安装完成后，初始页面看起来是这个样子的：\n",
    "\n",
    "修改① - 在```_config.yml```中修改```title```字段\n",
    "修改② - 在```_pages```中修改```about.md```\n",
    "修改③ - 在根目录下修改```index.html```\n",
    "修改④ - 在```_config.yml```中修改```description```字段\n",
    "修改⑤ - 在```_config.yml```中修改```social_links```字段\n",
    "\n",
    "### 问题\n",
    "(1)如果你遇到了类似这样的错误--\n",
    "```\n",
    "jekyll_1     |   Liquid Exception: Permission denied @ rb_sysopen - /data/.tweet-cache/ee341900d3bc668607abd8cba365fd1b.cache in /data/_posts/2020-01-14-test-markdown-post.md\n",
    "jekyll_1     | /usr/local/bundle/ruby/2.6.0/gems/jekyll-twitter-plugin-2.1.0/lib/jekyll-twitter-plugin.rb:41:in `initialize': Permission denied @ rb_sysopen - /data/.tweet-cache/ee341900d3bc668607abd8cba365fd1b.cache (Errno::EACCES)\n",
    "```\n",
    "请在目录下执行以下命令：\n",
    "```\n",
    "mkdir .jekyll-cache _site .tweet-cache && touch .jekyll-metadata\n",
    "```\n",
    "如果仍有问题，则在```docker-compose.yml```中，jekyll -> command节点下，加入以下语句：\n",
    "```\n",
    "chmod 777 * .tweet-cache\n",
    "```\n",
    "(2) 如果你发现笔记本中粘贴的图片无法展示 -- 请升级到最新版本的fastpages。\n",
    "\n",
    "### 总结\n",
    "\n",
    "FastPages博客的配置和更新方式都和维护一般Git项目类似，对NoteBook的支持应该会催生一批数据科学家用户。\n",
    "\n",
    "> PS:这篇文章同步发表于[Gridea](https://henryalps.github.io/post/qiang-tui-shi-yong-fastpages-da-jian-bo-ke/)"
   ]
  }
 ],
 "metadata": {
  "kernelspec": {
   "display_name": "Python 3",
   "language": "python",
   "name": "python3"
  },
  "language_info": {
   "codemirror_mode": {
    "name": "ipython",
    "version": 3
   },
   "file_extension": ".py",
   "mimetype": "text/x-python",
   "name": "python",
   "nbconvert_exporter": "python",
   "pygments_lexer": "ipython3",
   "version": "3.6.9"
  }
 },
 "nbformat": 4,
 "nbformat_minor": 4
}
