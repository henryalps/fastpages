{
 "cells": [
  {
   "cell_type": "markdown",
   "metadata": {},
   "source": [
    "# \"基本算法练习\"\n",
    "\n",
    "- toc: true\n",
    "- branch: master\n",
    "- badges: true\n",
    "- comments: true\n",
    "- categories: [python, jupyter]\n",
    "- description: 练习基本算法，长期更新"
   ]
  },
  {
   "cell_type": "markdown",
   "metadata": {},
   "source": [
    "# 快速排序\n",
    "**基本思想** 选择哨兵，将比它大的放到左边，小的放到右边。再对左右重复进行上述过程。"
   ]
  },
  {
   "cell_type": "code",
   "execution_count": 13,
   "metadata": {},
   "outputs": [
    {
     "name": "stdout",
     "output_type": "stream",
     "text": [
      "[1, 1, 2, 3, 4]\n",
      "[]\n",
      "[1, 2]\n",
      "[1, 1, 1, 1, 2]\n"
     ]
    }
   ],
   "source": [
    "def fast_sort(seq, start, end):\n",
    "    if start >= end:\n",
    "        return seq\n",
    "    # end选为哨兵\n",
    "    sequential_idx = end\n",
    "    left_idx = start\n",
    "    right_idx = end - 1\n",
    "    while left_idx < right_idx:\n",
    "        if seq[left_idx] > seq[sequential_idx] and seq[right_idx] < seq[sequential_idx]:\n",
    "            tmp = seq[left_idx]\n",
    "            seq[left_idx] = seq[right_idx]\n",
    "            seq[right_idx] = tmp\n",
    "            left_idx += 1\n",
    "            right_idx -= 1\n",
    "        elif seq[right_idx] < seq[sequential_idx]:\n",
    "            left_idx += 1\n",
    "        elif seq[left_idx] > seq[sequential_idx]:\n",
    "            right_idx -= 1\n",
    "        else:\n",
    "            left_idx += 1\n",
    "            right_idx -= 1\n",
    "    lower_idx = min([left_idx, right_idx])\n",
    "    if seq[sequential_idx] > seq[lower_idx]:\n",
    "        tmp = seq[sequential_idx]\n",
    "        seq[sequential_idx] = seq[lower_idx + 1]\n",
    "        seq[lower_idx + 1] = tmp\n",
    "        fast_sort(seq, start, lower_idx)\n",
    "        fast_sort(seq, lower_idx + 2, end)\n",
    "    else:\n",
    "        tmp = seq[sequential_idx]\n",
    "        seq[sequential_idx] = seq[lower_idx]\n",
    "        seq[lower_idx] = tmp\n",
    "        fast_sort(seq, start, lower_idx - 1)\n",
    "        fast_sort(seq, lower_idx + 1, end)\n",
    "    return seq\n",
    "    \n",
    "if '__main__' == __name__:\n",
    "    seq = [1,3,4,2,1]\n",
    "    print(fast_sort(seq, 0, len(seq) - 1))\n",
    "    seq = []\n",
    "    print(fast_sort(seq, 0, len(seq) - 1))\n",
    "    seq = [2,1]\n",
    "    print(fast_sort(seq, 0, len(seq) - 1))\n",
    "    seq = [2,1,1,1,1]\n",
    "    print(fast_sort(seq, 0, len(seq) - 1))"
   ]
  },
  {
   "cell_type": "markdown",
   "metadata": {},
   "source": [
    "# 表达式求值\n",
    "给定一个带括号和加号的表达式，对其进行求值。"
   ]
  },
  {
   "cell_type": "code",
   "execution_count": 16,
   "metadata": {},
   "outputs": [
    {
     "name": "stdout",
     "output_type": "stream",
     "text": [
      "18\n"
     ]
    }
   ],
   "source": [
    "def eval(exp):\n",
    "    symbol_stack = []\n",
    "    exp_stack = []\n",
    "    val_stack = [-1]\n",
    "    for ch in exp:\n",
    "        if ch == '(':\n",
    "            symbol_stack.append(ch)\n",
    "        elif ch == ')':\n",
    "            exp = exp_stack.pop()\n",
    "            right = val_stack.pop()\n",
    "            left = val_stack.pop()\n",
    "            if exp == '+':\n",
    "                val_stack.append(right + left)\n",
    "        elif ch == '+':\n",
    "            exp_stack.append(ch)\n",
    "        else:\n",
    "            val_stack.append(int(ch))\n",
    "    while len(exp_stack) > 0:\n",
    "        right = val_stack.pop()\n",
    "        left = val_stack.pop()\n",
    "        if (exp_stack.pop() == '+'):\n",
    "            val_stack.append(right + left)\n",
    "    return val_stack.pop()\n",
    "\n",
    "if __name__ == \"__main__\":\n",
    "    print(eval('(1+2)+(4+5)+6'))"
   ]
  },
  {
   "cell_type": "code",
   "execution_count": null,
   "metadata": {},
   "outputs": [],
   "source": []
  }
 ],
 "metadata": {
  "kernelspec": {
   "display_name": "Python 3",
   "language": "python",
   "name": "python3"
  },
  "language_info": {
   "codemirror_mode": {
    "name": "ipython",
    "version": 3
   },
   "file_extension": ".py",
   "mimetype": "text/x-python",
   "name": "python",
   "nbconvert_exporter": "python",
   "pygments_lexer": "ipython3",
   "version": "3.6.9"
  }
 },
 "nbformat": 4,
 "nbformat_minor": 4
}
